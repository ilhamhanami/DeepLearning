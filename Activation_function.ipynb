{
 "cells": [
  {
   "cell_type": "code",
   "execution_count": 1,
   "id": "still-hygiene",
   "metadata": {},
   "outputs": [],
   "source": [
    "import numpy as np"
   ]
  },
  {
   "cell_type": "markdown",
   "id": "expensive-habitat",
   "metadata": {},
   "source": [
    "# Binary step function"
   ]
  },
  {
   "cell_type": "code",
   "execution_count": 2,
   "id": "suited-occupation",
   "metadata": {},
   "outputs": [],
   "source": [
    "def binary_step(x):\n",
    "    if x<0:\n",
    "        return 0\n",
    "    else:\n",
    "        return 1\n"
   ]
  },
  {
   "cell_type": "code",
   "execution_count": 3,
   "id": "blocked-guitar",
   "metadata": {},
   "outputs": [
    {
     "data": {
      "text/plain": [
       "(1, 0)"
      ]
     },
     "execution_count": 3,
     "metadata": {},
     "output_type": "execute_result"
    }
   ],
   "source": [
    "binary_step(10), binary_step(-10)"
   ]
  },
  {
   "cell_type": "markdown",
   "id": "subtle-wallace",
   "metadata": {},
   "source": [
    "# Linear function"
   ]
  },
  {
   "cell_type": "code",
   "execution_count": 4,
   "id": "italic-salvation",
   "metadata": {},
   "outputs": [],
   "source": [
    "def linear_function(x):\n",
    "    return 2*x"
   ]
  },
  {
   "cell_type": "code",
   "execution_count": 5,
   "id": "pacific-granny",
   "metadata": {},
   "outputs": [
    {
     "data": {
      "text/plain": [
       "(10, -10)"
      ]
     },
     "execution_count": 5,
     "metadata": {},
     "output_type": "execute_result"
    }
   ],
   "source": [
    "linear_function(5), linear_function(-5)"
   ]
  },
  {
   "cell_type": "markdown",
   "id": "imported-citation",
   "metadata": {},
   "source": [
    "# Sigmoid Function"
   ]
  },
  {
   "cell_type": "code",
   "execution_count": 6,
   "id": "designed-alexandria",
   "metadata": {},
   "outputs": [],
   "source": [
    "def sigmoid_function(x):\n",
    "    sig = (1/(1 + np.exp(-x)))\n",
    "    \n",
    "    return sig"
   ]
  },
  {
   "cell_type": "code",
   "execution_count": 7,
   "id": "resident-overview",
   "metadata": {},
   "outputs": [
    {
     "data": {
      "text/plain": [
       "(0.9525741268224334, 0.04742587317756678)"
      ]
     },
     "execution_count": 7,
     "metadata": {},
     "output_type": "execute_result"
    }
   ],
   "source": [
    "sigmoid_function(3), sigmoid_function(-3)"
   ]
  },
  {
   "cell_type": "markdown",
   "id": "unlike-converter",
   "metadata": {},
   "source": [
    "# TanH function"
   ]
  },
  {
   "cell_type": "code",
   "execution_count": 8,
   "id": "continuous-equity",
   "metadata": {},
   "outputs": [],
   "source": [
    "def tanh_function(x):\n",
    "    tanh = (2/(1+ np.exp(-2*x))) -1\n",
    "    return tanh"
   ]
  },
  {
   "cell_type": "code",
   "execution_count": 10,
   "id": "broad-circle",
   "metadata": {},
   "outputs": [
    {
     "data": {
      "text/plain": [
       "(0.9950547536867307, -0.9950547536867305)"
      ]
     },
     "execution_count": 10,
     "metadata": {},
     "output_type": "execute_result"
    }
   ],
   "source": [
    "tanh_function(3), tanh_function(-3)"
   ]
  },
  {
   "cell_type": "markdown",
   "id": "emotional-canberra",
   "metadata": {},
   "source": [
    "# ReLu Function"
   ]
  },
  {
   "cell_type": "code",
   "execution_count": 11,
   "id": "chicken-radiation",
   "metadata": {},
   "outputs": [],
   "source": [
    "def relu_fucntion(x):\n",
    "    if x<0:\n",
    "        return 0\n",
    "    else:\n",
    "        return x"
   ]
  },
  {
   "cell_type": "code",
   "execution_count": 13,
   "id": "ranking-plumbing",
   "metadata": {},
   "outputs": [
    {
     "data": {
      "text/plain": [
       "(3, 0)"
      ]
     },
     "execution_count": 13,
     "metadata": {},
     "output_type": "execute_result"
    }
   ],
   "source": [
    "relu_fucntion(3), relu_fucntion(-3)"
   ]
  },
  {
   "cell_type": "markdown",
   "id": "annual-correlation",
   "metadata": {},
   "source": [
    "# Leaky ReLU function"
   ]
  },
  {
   "cell_type": "code",
   "execution_count": 15,
   "id": "prospective-carbon",
   "metadata": {},
   "outputs": [],
   "source": [
    "def leaky_relu_function(x):\n",
    "    if x<0:\n",
    "        return 0.01*x\n",
    "    else:\n",
    "        return x"
   ]
  },
  {
   "cell_type": "code",
   "execution_count": 16,
   "id": "superb-trinidad",
   "metadata": {},
   "outputs": [
    {
     "data": {
      "text/plain": [
       "(3, -0.03)"
      ]
     },
     "execution_count": 16,
     "metadata": {},
     "output_type": "execute_result"
    }
   ],
   "source": [
    "leaky_relu_function(3), leaky_relu_function(-3)"
   ]
  },
  {
   "cell_type": "markdown",
   "id": "logical-walker",
   "metadata": {},
   "source": [
    "# Softmax function"
   ]
  },
  {
   "cell_type": "code",
   "execution_count": 17,
   "id": "dutch-million",
   "metadata": {},
   "outputs": [],
   "source": [
    "def softmax_function(x):\n",
    "    z = np.exp(x)\n",
    "    logit = z/z.sum()\n",
    "    \n",
    "    return logit"
   ]
  },
  {
   "cell_type": "code",
   "execution_count": 20,
   "id": "nominated-crash",
   "metadata": {},
   "outputs": [
    {
     "data": {
      "text/plain": [
       "array([0.02186349, 0.0360468 , 0.21807042, 0.72401929])"
      ]
     },
     "execution_count": 20,
     "metadata": {},
     "output_type": "execute_result"
    }
   ],
   "source": [
    "softmax_function([0.8,1.3,3.1,4.3])"
   ]
  },
  {
   "cell_type": "markdown",
   "id": "italian-hartford",
   "metadata": {},
   "source": [
    "# eLU Fucntion"
   ]
  },
  {
   "cell_type": "code",
   "execution_count": 21,
   "id": "reserved-dragon",
   "metadata": {},
   "outputs": [],
   "source": [
    "def elu_function(x, a):\n",
    "    if x<0:\n",
    "        return a*(np.exp(x)-1)\n",
    "    else:\n",
    "        return x"
   ]
  },
  {
   "cell_type": "code",
   "execution_count": 22,
   "id": "improving-supervisor",
   "metadata": {},
   "outputs": [
    {
     "data": {
      "text/plain": [
       "(5, -0.09999546000702375)"
      ]
     },
     "execution_count": 22,
     "metadata": {},
     "output_type": "execute_result"
    }
   ],
   "source": [
    "elu_function(5,0.1), elu_function(-10,0.1)"
   ]
  },
  {
   "cell_type": "markdown",
   "id": "present-frost",
   "metadata": {},
   "source": [
    "# swish function"
   ]
  },
  {
   "cell_type": "code",
   "execution_count": 23,
   "id": "alpine-chassis",
   "metadata": {},
   "outputs": [],
   "source": [
    "def swish_function(x):\n",
    "    return x/(1-np.exp(-x))"
   ]
  },
  {
   "cell_type": "code",
   "execution_count": 25,
   "id": "starting-abraham",
   "metadata": {},
   "outputs": [
    {
     "data": {
      "text/plain": [
       "(3.157187089473768, 0.00045401991009687764)"
      ]
     },
     "execution_count": 25,
     "metadata": {},
     "output_type": "execute_result"
    }
   ],
   "source": [
    "swish_function(3), swish_function(-10)"
   ]
  }
 ],
 "metadata": {
  "kernelspec": {
   "display_name": "Python 3",
   "language": "python",
   "name": "python3"
  },
  "language_info": {
   "codemirror_mode": {
    "name": "ipython",
    "version": 3
   },
   "file_extension": ".py",
   "mimetype": "text/x-python",
   "name": "python",
   "nbconvert_exporter": "python",
   "pygments_lexer": "ipython3",
   "version": "3.6.12"
  }
 },
 "nbformat": 4,
 "nbformat_minor": 5
}
