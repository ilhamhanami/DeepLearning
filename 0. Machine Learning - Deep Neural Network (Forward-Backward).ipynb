{
 "cells": [
  {
   "cell_type": "code",
   "execution_count": 2,
   "metadata": {},
   "outputs": [],
   "source": [
    "import math\n",
    "import numpy as np\n",
    "import matplotlib.pyplot as plt\n",
    "import pprint\n",
    "\n",
    "from random import random, seed; seed(90)"
   ]
  },
  {
   "cell_type": "code",
   "execution_count": 3,
   "metadata": {},
   "outputs": [],
   "source": [
    "plt.style.use('seaborn')"
   ]
  },
  {
   "cell_type": "markdown",
   "metadata": {},
   "source": [
    "## 1. Init Network"
   ]
  },
  {
   "cell_type": "code",
   "execution_count": 4,
   "metadata": {},
   "outputs": [],
   "source": [
    "def init_neural_network(num_inputs, num_hidden, num_outputs):\n",
    "    \n",
    "    network = list()\n",
    "    \n",
    "    # include additional weight for the bias\n",
    "    hidden_layer = [{'weights': [random() for _ in range (num_inputs + 1)]} for _ in range(num_hidden)] # include bias\n",
    "    network.append(hidden_layer)\n",
    "    \n",
    "    output_layer = [{'weights': [random() for _ in range(num_hidden + 1)]} for _ in range(num_outputs)]\n",
    "    network.append(output_layer)\n",
    "    \n",
    "    return network"
   ]
  },
  {
   "cell_type": "code",
   "execution_count": 5,
   "metadata": {},
   "outputs": [
    {
     "name": "stdout",
     "output_type": "stream",
     "text": [
      "Total hidden: 1 neuron\n",
      "Total output: 2 neurons\n"
     ]
    }
   ],
   "source": [
    "network = init_neural_network(num_inputs=2, num_hidden=1, num_outputs=2)\n",
    "print(f'Total hidden: {len(network[0])} neuron')\n",
    "print(f'Total output: {len(network[1])} neurons')"
   ]
  },
  {
   "cell_type": "code",
   "execution_count": 6,
   "metadata": {},
   "outputs": [
    {
     "name": "stdout",
     "output_type": "stream",
     "text": [
      "[{'weights': [0.20367044742105156, 0.09269342184833151, 0.6594800023332608]}]\n",
      "[{'weights': [0.5861294218137865, 0.6344092107298325]},\n",
      " {'weights': [0.35484694544207973, 0.45126484018795465]}]\n"
     ]
    }
   ],
   "source": [
    "# show hidden and output layers (total 3 neurons)\n",
    "# we can see the hidden layer has 1 neuron with 2 input weights plus the bias and the output layer has 2 neurons, each with 1 weight plus the bias\n",
    "for layer in network: pprint.pprint(layer)"
   ]
  },
  {
   "cell_type": "markdown",
   "metadata": {},
   "source": [
    "## 2. Forward Propagate"
   ]
  },
  {
   "cell_type": "markdown",
   "metadata": {},
   "source": [
    "#### 2.1. Neuron Activation"
   ]
  },
  {
   "cell_type": "code",
   "execution_count": 7,
   "metadata": {},
   "outputs": [],
   "source": [
    "def activate(inputs, weights):\n",
    "        \n",
    "    activation = 0.0\n",
    "    \n",
    "    for i in range(len(weights)-1): # this performs like linear regression\n",
    "        activation += weights[i] * inputs[i]\n",
    "    \n",
    "    bias = weights[-1] # get special weight bias that has no input to multiply with\n",
    "    activation += bias\n",
    "    \n",
    "    return activation"
   ]
  },
  {
   "cell_type": "markdown",
   "metadata": {},
   "source": [
    "#### 2.2. Neuron Transfer by Sigmoid"
   ]
  },
  {
   "cell_type": "code",
   "execution_count": 8,
   "metadata": {},
   "outputs": [],
   "source": [
    "# the function that will be used to easily calculate the derivative (slope) on backpropagation later\n",
    "# exp is the base of the natural logarithms Euler’s number\n",
    "def transfer(activation):\n",
    "    return 1.0 / (1.0 + math.exp(-activation))"
   ]
  },
  {
   "cell_type": "markdown",
   "metadata": {},
   "source": [
    "#### 2.3. Forward Process"
   ]
  },
  {
   "cell_type": "code",
   "execution_count": 9,
   "metadata": {},
   "outputs": [],
   "source": [
    "def forward_propagate(network, features):\n",
    "    \n",
    "    inputs = features\n",
    "    for layer in network: # 2 layers\n",
    "        \n",
    "        new_inputs = []\n",
    "        \n",
    "        # each neuron has a set of weights\n",
    "        for neuron in layer: # 1 neurons of hidden layer, and 2 neurons of output layer\n",
    "            activation = activate(inputs, neuron['weights']) # total 3 neurons will be activated\n",
    "            neuron['outputs'] = transfer(activation)\n",
    "            new_inputs.append(neuron['outputs']) # the outputs from one layer become inputs to the neurons on the next layer\n",
    "        inputs = new_inputs\n",
    "    return inputs"
   ]
  },
  {
   "cell_type": "code",
   "execution_count": 10,
   "metadata": {},
   "outputs": [],
   "source": [
    "features = [0.98, 0.01, None] # arbitrary number of features\n",
    "outputs = forward_propagate(network, features)"
   ]
  },
  {
   "cell_type": "code",
   "execution_count": 16,
   "metadata": {},
   "outputs": [
    {
     "name": "stdout",
     "output_type": "stream",
     "text": [
      "Network outputs: [0.7400560278481565, 0.6683212567924518]\n"
     ]
    }
   ],
   "source": [
    "# because the output layer has two neurons, we get a list of two numbers as output\n",
    "print('Network outputs:', outputs)"
   ]
  },
  {
   "cell_type": "markdown",
   "metadata": {},
   "source": [
    "## 3. Back Propagate"
   ]
  },
  {
   "cell_type": "markdown",
   "metadata": {},
   "source": [
    "#### 3.1. Transfer Derivative"
   ]
  },
  {
   "cell_type": "code",
   "execution_count": 17,
   "metadata": {},
   "outputs": [],
   "source": [
    "# given an output value from a neuron, we need to calculate its slope to help direct the tunintg of weights\n",
    "# below is the beautiful derivative of the sigmoid function\n",
    "def transfer_derivative(outputs):\n",
    "    return outputs * (1.0 - outputs)"
   ]
  },
  {
   "cell_type": "markdown",
   "metadata": {},
   "source": [
    "#### 3.2. Error Backpropagation"
   ]
  },
  {
   "cell_type": "code",
   "execution_count": 18,
   "metadata": {},
   "outputs": [],
   "source": [
    "def backward_propagate_error(network, labels):\n",
    "    \n",
    "    # reversed the process to perform backpropagate\n",
    "    for i in reversed(range(len(network))):\n",
    "        \n",
    "        # started at the output layer and working backward\n",
    "        layer = network[i]\n",
    "        errors = list()\n",
    "        \n",
    "        # calculate errors if the output layer\n",
    "        if i == len(network)-1:\n",
    "            for j in range(len(layer)):\n",
    "                neuron = layer[j]\n",
    "                errors.append((labels[j] - neuron['outputs']))\n",
    "        \n",
    "        # calculate errors if the hidden layer (uses delta)\n",
    "        else:\n",
    "            for j in range(len(layer)):\n",
    "                \n",
    "                error = 0.0\n",
    "                for neuron in network[i + 1]:\n",
    "                    error += (neuron['weights'][j] * neuron['delta'])\n",
    "                errors.append(error)\n",
    "                \n",
    "        # calculate delta based on errors calculated before\n",
    "        for j in range(len(layer)):\n",
    "            neuron = layer[j]\n",
    "            neuron['delta'] = errors[j] * transfer_derivative(neuron['outputs'])"
   ]
  },
  {
   "cell_type": "code",
   "execution_count": 19,
   "metadata": {},
   "outputs": [],
   "source": [
    "labels = [0, 1]\n",
    "backward_propagate_error(network, labels)"
   ]
  },
  {
   "cell_type": "code",
   "execution_count": 20,
   "metadata": {},
   "outputs": [
    {
     "name": "stdout",
     "output_type": "stream",
     "text": [
      "[{'delta': -0.011983326768545521,\n",
      "  'outputs': 0.7026614848405752,\n",
      "  'weights': [0.20367044742105156, 0.09269342184833151, 0.6594800023332608]}]\n",
      "[{'delta': -0.1423668748364181,\n",
      "  'outputs': 0.7400560278481565,\n",
      "  'weights': [0.5861294218137865, 0.6344092107298325]},\n",
      " {'delta': 0.07352254856186494,\n",
      "  'outputs': 0.6683212567924518,\n",
      "  'weights': [0.35484694544207973, 0.45126484018795465]}]\n"
     ]
    }
   ],
   "source": [
    "for layer in network: pprint.pprint(layer) # include delta"
   ]
  },
  {
   "cell_type": "markdown",
   "metadata": {},
   "source": [
    "## 4. Train Network"
   ]
  },
  {
   "cell_type": "markdown",
   "metadata": {},
   "source": [
    "#### 4.1. Update Weights"
   ]
  },
  {
   "cell_type": "code",
   "execution_count": 21,
   "metadata": {},
   "outputs": [],
   "source": [
    "def update_weights(network, features, learning_rate):\n",
    "    \n",
    "    for i in range(len(network)):\n",
    "        \n",
    "        inputs = features[:-1] # ignore the label or class\n",
    "        \n",
    "        # if hidden or output layer set outputs of previous layer into inputs\n",
    "        if i != 0:\n",
    "            inputs = [neuron['outputs'] for neuron in network[i - 1]]\n",
    "            \n",
    "        for neuron in network[i]:\n",
    "            for j in range(len(inputs)):\n",
    "                neuron['weights'][j] += learning_rate * neuron['delta'] * inputs[j] # update weights\n",
    "            neuron['weights'][-1] += learning_rate * neuron['delta']"
   ]
  },
  {
   "cell_type": "markdown",
   "metadata": {},
   "source": [
    "#### 4.2. Set Loss Function"
   ]
  },
  {
   "cell_type": "code",
   "execution_count": 22,
   "metadata": {},
   "outputs": [],
   "source": [
    "def calculate_sum_squared_error(outputs, labels):\n",
    "    \n",
    "    error = sum([(labels[i] - outputs[i])**2 for i in range(len(labels))])\n",
    "    return error"
   ]
  },
  {
   "cell_type": "markdown",
   "metadata": {},
   "source": [
    "#### 4.3. Train Network"
   ]
  },
  {
   "cell_type": "code",
   "execution_count": 23,
   "metadata": {},
   "outputs": [],
   "source": [
    "def train_network(network, data, num_outputs, learning_rate, num_epochs):\n",
    "    \n",
    "    total_loss = []\n",
    "    print_every = 4\n",
    "    \n",
    "    for epoch in range(1, num_epochs+1):\n",
    "        \n",
    "        sum_error = 0.0\n",
    "        \n",
    "        for features in data:\n",
    "            \n",
    "            # forward propagation\n",
    "            outputs = forward_propagate(network, features)\n",
    "            labels = [0 for _ in range(num_outputs)]\n",
    "            labels[features[-1]] = 1\n",
    "            sum_error += calculate_sum_squared_error(outputs, labels)\n",
    "            \n",
    "            # backward propagation\n",
    "            backward_propagate_error(network, labels)\n",
    "            \n",
    "            # optimize weights\n",
    "            update_weights(network, features, learning_rate)\n",
    "        \n",
    "        if epoch % print_every == 0:\n",
    "            print(f'Epoch: {epoch}, Learning rate: {learning_rate:.3f}, Loss: {sum_error:.3f}')\n",
    "        \n",
    "        total_loss.append(sum_error)\n",
    "        \n",
    "    # removes all delta and outputs calculations\n",
    "    for layer in network: \n",
    "        for neuron in layer: del neuron['outputs']; del neuron['delta']\n",
    "            \n",
    "    return total_loss"
   ]
  },
  {
   "cell_type": "markdown",
   "metadata": {},
   "source": [
    "## 5. Run Network"
   ]
  },
  {
   "cell_type": "code",
   "execution_count": 24,
   "metadata": {},
   "outputs": [],
   "source": [
    "def plot_network(loss):\n",
    "    \n",
    "    plt.plot(total_loss)\n",
    "    plt.title('Total loss of training model')\n",
    "    plt.xlabel('Epochs'); plt.ylabel('Loss')\n",
    "    plt.grid(True); plt.show()"
   ]
  },
  {
   "cell_type": "code",
   "execution_count": 25,
   "metadata": {},
   "outputs": [],
   "source": [
    "# refers to http://archive.ics.uci.edu/ml/datasets/seeds for the original datasets\n",
    "datasets = [[2.7810836, 2.550537003, 0], \n",
    "            [1.465489372, 2.362125076, 0], \n",
    "            [3.396561688, 4.400293529, 0], \n",
    "            [1.38807019, 1.850220317, 0], \n",
    "            [3.06407232, 3.005305973, 0], \n",
    "            [7.627531214, 2.759262235, 1], \n",
    "            [5.332441248, 2.088626775, 1], \n",
    "            [6.922596716, 1.77106367, 1], \n",
    "            [8.675418651, -0.242068655, 1], \n",
    "            [7.673756466, 3.508563011, 1]]"
   ]
  },
  {
   "cell_type": "code",
   "execution_count": 26,
   "metadata": {},
   "outputs": [],
   "source": [
    "num_inputs = len(datasets[0]) - 1 # ignore the labels or class\n",
    "num_outputs = len(set([features[-1] for features in datasets]))"
   ]
  },
  {
   "cell_type": "code",
   "execution_count": 27,
   "metadata": {},
   "outputs": [],
   "source": [
    "network = init_neural_network(num_inputs=num_inputs, num_hidden=2, num_outputs=num_outputs)"
   ]
  },
  {
   "cell_type": "code",
   "execution_count": 28,
   "metadata": {},
   "outputs": [
    {
     "name": "stdout",
     "output_type": "stream",
     "text": [
      "Epoch: 4, Learning rate: 0.400, Loss: 5.408\n",
      "Epoch: 8, Learning rate: 0.400, Loss: 4.859\n",
      "Epoch: 12, Learning rate: 0.400, Loss: 4.073\n",
      "Epoch: 16, Learning rate: 0.400, Loss: 3.064\n",
      "Epoch: 20, Learning rate: 0.400, Loss: 2.242\n",
      "Epoch: 24, Learning rate: 0.400, Loss: 1.667\n",
      "Epoch: 28, Learning rate: 0.400, Loss: 1.277\n",
      "Epoch: 32, Learning rate: 0.400, Loss: 1.011\n",
      "Epoch: 36, Learning rate: 0.400, Loss: 0.822\n",
      "Epoch: 40, Learning rate: 0.400, Loss: 0.684\n",
      "Epoch: 44, Learning rate: 0.400, Loss: 0.579\n",
      "Epoch: 48, Learning rate: 0.400, Loss: 0.496\n",
      "Epoch: 52, Learning rate: 0.400, Loss: 0.429\n",
      "Epoch: 56, Learning rate: 0.400, Loss: 0.372\n",
      "Epoch: 60, Learning rate: 0.400, Loss: 0.323\n",
      "Epoch: 64, Learning rate: 0.400, Loss: 0.281\n",
      "Epoch: 68, Learning rate: 0.400, Loss: 0.246\n",
      "Epoch: 72, Learning rate: 0.400, Loss: 0.217\n",
      "Epoch: 76, Learning rate: 0.400, Loss: 0.192\n",
      "Epoch: 80, Learning rate: 0.400, Loss: 0.172\n",
      "Epoch: 84, Learning rate: 0.400, Loss: 0.155\n",
      "Epoch: 88, Learning rate: 0.400, Loss: 0.141\n",
      "Epoch: 92, Learning rate: 0.400, Loss: 0.129\n",
      "Epoch: 96, Learning rate: 0.400, Loss: 0.119\n",
      "Epoch: 100, Learning rate: 0.400, Loss: 0.110\n"
     ]
    },
    {
     "data": {
      "image/png": "[encoded data removed]",
      "text/plain": [
       "<Figure size 576x396 with 1 Axes>"
      ]
     },
     "metadata": {},
     "output_type": "display_data"
    }
   ],
   "source": [
    "total_loss = train_network(network, datasets, num_outputs, learning_rate=0.4, num_epochs=100)\n",
    "plot_network(total_loss)"
   ]
  },
  {
   "cell_type": "markdown",
   "metadata": {},
   "source": [
    "## 6. Predict!"
   ]
  },
  {
   "cell_type": "code",
   "execution_count": 29,
   "metadata": {},
   "outputs": [],
   "source": [
    "def predict(network, features):\n",
    "    outputs = forward_propagate(network, features)\n",
    "    return outputs.index(max(outputs))"
   ]
  },
  {
   "cell_type": "code",
   "execution_count": 30,
   "metadata": {},
   "outputs": [],
   "source": [
    "def calculate_accuracy(predictions, labels):\n",
    "    \n",
    "    score = 0.0\n",
    "    for pred, label in zip(predictions, labels):\n",
    "        if pred == label:\n",
    "            score += 1.\n",
    "            \n",
    "    accuracy = (score/ len(labels)) * 100.\n",
    "    return accuracy"
   ]
  },
  {
   "cell_type": "code",
   "execution_count": 31,
   "metadata": {},
   "outputs": [
    {
     "name": "stdout",
     "output_type": "stream",
     "text": [
      "Model Accuracy: 100.0%\n"
     ]
    }
   ],
   "source": [
    "predictions = []; labels = []\n",
    "for features in datasets:\n",
    "    prediction = predict(network, features)\n",
    "    \n",
    "    predictions.append(prediction)\n",
    "    labels.append(features[-1])\n",
    "    \n",
    "accuracy = calculate_accuracy(predictions, labels)\n",
    "print(f'Model Accuracy: {accuracy}%')"
   ]
  },
  {
   "cell_type": "markdown",
   "metadata": {},
   "source": [
    "---"
   ]
  }
 ],
 "metadata": {
  "kernelspec": {
   "display_name": "Python 3",
   "language": "python",
   "name": "python3"
  },
  "language_info": {
   "codemirror_mode": {
    "name": "ipython",
    "version": 3
   },
   "file_extension": ".py",
   "mimetype": "text/x-python",
   "name": "python",
   "nbconvert_exporter": "python",
   "pygments_lexer": "ipython3",
   "version": "3.6.12"
  }
 },
 "nbformat": 4,
 "nbformat_minor": 4
}
